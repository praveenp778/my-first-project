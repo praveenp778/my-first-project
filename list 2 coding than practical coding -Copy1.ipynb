{
 "cells": [
  {
   "cell_type": "markdown",
   "id": "827adb37-9cd0-4ff0-9f8f-94d1b3b372ef",
   "metadata": {},
   "source": [
    "# list 2"
   ]
  },
  {
   "cell_type": "code",
   "execution_count": 50,
   "id": "3b1eac29-e150-4c07-a887-a62cd71391d7",
   "metadata": {},
   "outputs": [],
   "source": [
    "l1 = []"
   ]
  },
  {
   "cell_type": "code",
   "execution_count": 51,
   "id": "3113a459-9736-447a-aaa5-83ca54bf7c11",
   "metadata": {},
   "outputs": [
    {
     "name": "stdout",
     "output_type": "stream",
     "text": [
      "<class 'list'>\n"
     ]
    }
   ],
   "source": [
    "print(type(l1))"
   ]
  },
  {
   "cell_type": "code",
   "execution_count": 52,
   "id": "e76c96ac-4234-4d2a-936b-71bd42a60ced",
   "metadata": {},
   "outputs": [],
   "source": [
    "l2 = [10,'praveen',2.3,'praveen',10]"
   ]
  },
  {
   "cell_type": "code",
   "execution_count": 53,
   "id": "72058da3-a87b-40f2-94cd-63cf1c9b2753",
   "metadata": {},
   "outputs": [
    {
     "name": "stdout",
     "output_type": "stream",
     "text": [
      "[10, 'praveen', 2.3, 'praveen', 10]\n"
     ]
    }
   ],
   "source": [
    "print(l2)"
   ]
  },
  {
   "cell_type": "markdown",
   "id": "adc316b8-0dfb-4eba-89d8-636c28c0b909",
   "metadata": {},
   "source": [
    "indexing"
   ]
  },
  {
   "cell_type": "code",
   "execution_count": 54,
   "id": "7d930ef7-c16c-479a-85cc-2c1db9317edc",
   "metadata": {},
   "outputs": [
    {
     "name": "stdout",
     "output_type": "stream",
     "text": [
      "praveen\n"
     ]
    }
   ],
   "source": [
    "l2 = [10,'praveen',2.2,'praveen',10]\n",
    "print(l2[1])"
   ]
  },
  {
   "cell_type": "code",
   "execution_count": 55,
   "id": "99b1eedb-4755-41a8-89b7-eb8c826ac3c2",
   "metadata": {},
   "outputs": [
    {
     "name": "stdout",
     "output_type": "stream",
     "text": [
      "10\n"
     ]
    }
   ],
   "source": [
    "l2 = [10,'praveen',2.3,'praveen',10]\n",
    "print(l2[4])"
   ]
  },
  {
   "cell_type": "code",
   "execution_count": 56,
   "id": "5f82a313-6562-4118-b960-2d7791398ca0",
   "metadata": {},
   "outputs": [
    {
     "name": "stdout",
     "output_type": "stream",
     "text": [
      "2.3\n"
     ]
    }
   ],
   "source": [
    "l2 = [10,'praveen',2.3,'praveen',10]\n",
    "print(l2[2])"
   ]
  },
  {
   "cell_type": "code",
   "execution_count": 57,
   "id": "b2c38f0b-1684-4a3b-aa61-20fc0c5e17a5",
   "metadata": {},
   "outputs": [
    {
     "name": "stdout",
     "output_type": "stream",
     "text": [
      "praveen\n"
     ]
    }
   ],
   "source": [
    "l2 = [10,'praveen',2.3,'praveen',10]\n",
    "print(l2[3])"
   ]
  },
  {
   "cell_type": "code",
   "execution_count": 58,
   "id": "18d70a1e-dfb1-43f8-9f49-6dd2447b7c5b",
   "metadata": {},
   "outputs": [
    {
     "name": "stdout",
     "output_type": "stream",
     "text": [
      "[20, 30, 60]\n"
     ]
    }
   ],
   "source": [
    "l3 =[20, 30, 60]\n",
    "print(l3)"
   ]
  },
  {
   "cell_type": "code",
   "execution_count": 59,
   "id": "bf771566-5407-4017-be36-9a2229b35f49",
   "metadata": {},
   "outputs": [
    {
     "name": "stdout",
     "output_type": "stream",
     "text": [
      "60\n"
     ]
    }
   ],
   "source": [
    "l3 = [20, 30, 60]\n",
    "print(l3[2])"
   ]
  },
  {
   "cell_type": "code",
   "execution_count": 60,
   "id": "23bad3c8-e78a-487e-a3de-935f5290e600",
   "metadata": {},
   "outputs": [
    {
     "name": "stdout",
     "output_type": "stream",
     "text": [
      "20\n"
     ]
    }
   ],
   "source": [
    "l3 = [20, 30, 60]\n",
    "print(l3[0])"
   ]
  },
  {
   "cell_type": "code",
   "execution_count": 61,
   "id": "398a8944-abff-4f36-ac5c-f6807fae91e6",
   "metadata": {},
   "outputs": [
    {
     "name": "stdout",
     "output_type": "stream",
     "text": [
      "30\n"
     ]
    }
   ],
   "source": [
    "l3 = [20, 30, 60]\n",
    "print(l3[1])"
   ]
  },
  {
   "cell_type": "markdown",
   "id": "18e31148-1ce1-4a6d-b5ec-0c5e32b802db",
   "metadata": {},
   "source": [
    "slaicin"
   ]
  },
  {
   "cell_type": "code",
   "execution_count": 62,
   "id": "62ad3758-4e44-4f70-9619-980cca2d2018",
   "metadata": {},
   "outputs": [
    {
     "name": "stdout",
     "output_type": "stream",
     "text": [
      "[10, 'praveen', 2.3, 'praveen']\n"
     ]
    }
   ],
   "source": [
    "l2 = [10,'praveen',2.3,'praveen',10] #//it wark than last digit value to one value lesss than print in code\n",
    "print(l2[0:4])"
   ]
  },
  {
   "cell_type": "code",
   "execution_count": 63,
   "id": "4bd5c472-ca4a-494e-a746-f04142947f2a",
   "metadata": {},
   "outputs": [
    {
     "name": "stdout",
     "output_type": "stream",
     "text": [
      "['praveen', 2.3, 'praveen']\n"
     ]
    }
   ],
   "source": [
    "l2 = [10,'praveen',2.3,'praveen',10]\n",
    "print(l2[1:4])"
   ]
  },
  {
   "cell_type": "code",
   "execution_count": 64,
   "id": "7635e0af-67fb-4409-9af6-35e64d2e62e9",
   "metadata": {},
   "outputs": [
    {
     "name": "stdout",
     "output_type": "stream",
     "text": [
      "[20, 30, 60]\n"
     ]
    }
   ],
   "source": [
    "l3 = [20, 30, 60]\n",
    "print(l3[0:3])"
   ]
  },
  {
   "cell_type": "code",
   "execution_count": 65,
   "id": "6a7784bb-3bc2-4649-a736-d3a28b781b1d",
   "metadata": {},
   "outputs": [
    {
     "name": "stdout",
     "output_type": "stream",
     "text": [
      "[30]\n"
     ]
    }
   ],
   "source": [
    "l3 = [20, 30, 60]\n",
    "print(l3[1:2])"
   ]
  },
  {
   "cell_type": "code",
   "execution_count": 66,
   "id": "f05b27ea-37b6-4236-b818-8a71ff73f658",
   "metadata": {},
   "outputs": [
    {
     "name": "stdout",
     "output_type": "stream",
     "text": [
      "[20, 30]\n"
     ]
    }
   ],
   "source": [
    "l3 = [20, 30, 60]\n",
    "print(l3[0:2])"
   ]
  },
  {
   "cell_type": "markdown",
   "id": "ee94daa0-0e73-49ef-ae1c-0e2ec32ac5fd",
   "metadata": {},
   "source": [
    "count in  time off values"
   ]
  },
  {
   "cell_type": "code",
   "execution_count": 67,
   "id": "c0348268-2200-4a31-88b3-def68f94bd6e",
   "metadata": {},
   "outputs": [
    {
     "name": "stdout",
     "output_type": "stream",
     "text": [
      "2\n"
     ]
    }
   ],
   "source": [
    "print(l2.count(10))"
   ]
  },
  {
   "cell_type": "code",
   "execution_count": 68,
   "id": "fa4001d6-675a-40ac-ba50-ee8708ffa880",
   "metadata": {},
   "outputs": [
    {
     "name": "stdout",
     "output_type": "stream",
     "text": [
      "2\n"
     ]
    }
   ],
   "source": [
    "print(l2.count('praveen'))"
   ]
  },
  {
   "cell_type": "code",
   "execution_count": 69,
   "id": "3e6a9b5d-50b4-4b28-b04c-deaf78081940",
   "metadata": {},
   "outputs": [
    {
     "name": "stdout",
     "output_type": "stream",
     "text": [
      "1\n"
     ]
    }
   ],
   "source": [
    "print(l2.count(2.3))"
   ]
  },
  {
   "cell_type": "markdown",
   "id": "c771e267-1e1d-4fd7-b685-93f69fbd33cb",
   "metadata": {},
   "source": [
    "index methad #// index methad is uss in pythan language to value in real possition"
   ]
  },
  {
   "cell_type": "code",
   "execution_count": 70,
   "id": "a7f6f3dd-3e6d-4aea-b722-2ca5e69ff493",
   "metadata": {},
   "outputs": [
    {
     "name": "stdout",
     "output_type": "stream",
     "text": [
      "2\n"
     ]
    }
   ],
   "source": [
    "print(l2.index(2.3))"
   ]
  },
  {
   "cell_type": "code",
   "execution_count": 71,
   "id": "a0fa1f80-9135-440e-b190-87604543062a",
   "metadata": {},
   "outputs": [
    {
     "name": "stdout",
     "output_type": "stream",
     "text": [
      "1\n"
     ]
    }
   ],
   "source": [
    "print(l2.index('praveen'))"
   ]
  },
  {
   "cell_type": "code",
   "execution_count": 72,
   "id": "251695cc-7441-43ea-8dc0-0af368d17d44",
   "metadata": {},
   "outputs": [
    {
     "name": "stdout",
     "output_type": "stream",
     "text": [
      "4\n"
     ]
    }
   ],
   "source": [
    "print(l2.index(10,1))"
   ]
  },
  {
   "cell_type": "code",
   "execution_count": 73,
   "id": "a22b9add-8958-4365-9332-7bcebeb6ce3f",
   "metadata": {},
   "outputs": [
    {
     "name": "stdout",
     "output_type": "stream",
     "text": [
      "0\n"
     ]
    }
   ],
   "source": [
    "print(l2.index(10))"
   ]
  },
  {
   "cell_type": "markdown",
   "id": "60abafda-0780-4b66-979e-f5fa8cb90532",
   "metadata": {},
   "source": [
    "insert #// its uss this code to value possition to fix posision to change to another possion it is called as insert method than the wark is anny (no name to add in any possition// \n",
    "for ex (\" \")its wark in 2inwarted comma"
   ]
  },
  {
   "cell_type": "code",
   "execution_count": 74,
   "id": "81a3dad1-daf7-4dcc-b316-441745039b6b",
   "metadata": {},
   "outputs": [
    {
     "name": "stdout",
     "output_type": "stream",
     "text": [
      "[10, 'praveen', 'learn coding', 2.3, 'praveen', 10]\n"
     ]
    }
   ],
   "source": [
    "l2.insert(2,\"learn coding\")\n",
    "print(l2)"
   ]
  },
  {
   "cell_type": "code",
   "execution_count": 75,
   "id": "6daa1fcd-e7f1-426c-9b7f-f89c45fe4806",
   "metadata": {},
   "outputs": [],
   "source": [
    "l3.insert(2,\"naresh it class\")\n",
    "#print(l3)"
   ]
  },
  {
   "cell_type": "markdown",
   "id": "e6b2eab0-931b-49a0-abd2-9f0352a94234",
   "metadata": {},
   "source": [
    "pop #//"
   ]
  },
  {
   "cell_type": "code",
   "execution_count": 76,
   "id": "623a9b12-72cd-49a5-bb8f-05286499fac9",
   "metadata": {},
   "outputs": [
    {
     "name": "stdout",
     "output_type": "stream",
     "text": [
      "[10, 'praveen', 'learn coding', 'praveen', 10]\n"
     ]
    }
   ],
   "source": [
    "l2.pop(3)\n",
    "print(l2)"
   ]
  },
  {
   "cell_type": "code",
   "execution_count": 77,
   "id": "a11b3855-6b2d-4bf1-8974-7257d8df8169",
   "metadata": {},
   "outputs": [
    {
     "name": "stdout",
     "output_type": "stream",
     "text": [
      "[10, 'praveen', 'praveen', 10]\n"
     ]
    }
   ],
   "source": [
    "l2.pop(2)\n",
    "print(l2)"
   ]
  },
  {
   "cell_type": "code",
   "execution_count": 79,
   "id": "6932991a-7174-4ff6-9575-ee9efa2e36ee",
   "metadata": {},
   "outputs": [
    {
     "name": "stdout",
     "output_type": "stream",
     "text": [
      "[10, 10]\n"
     ]
    }
   ],
   "source": [
    "l2.pop(1)\n",
    "print(l2)"
   ]
  },
  {
   "cell_type": "code",
   "execution_count": 80,
   "id": "a86dd533-4af9-480d-813c-10831bee4e1c",
   "metadata": {},
   "outputs": [
    {
     "name": "stdout",
     "output_type": "stream",
     "text": [
      "[10]\n"
     ]
    }
   ],
   "source": [
    "l2.pop(0)\n",
    "print(l2)"
   ]
  },
  {
   "cell_type": "code",
   "execution_count": 81,
   "id": "87f409ce-c51e-4047-a36f-4583f0ac7582",
   "metadata": {},
   "outputs": [
    {
     "name": "stdout",
     "output_type": "stream",
     "text": [
      "[20, 30, 'naresh it class']\n"
     ]
    }
   ],
   "source": [
    "l3.pop(3)\n",
    "print(l3)"
   ]
  },
  {
   "cell_type": "code",
   "execution_count": 82,
   "id": "a290725b-9bfe-4c55-a582-5eeafbd0422e",
   "metadata": {},
   "outputs": [
    {
     "name": "stdout",
     "output_type": "stream",
     "text": [
      "[20, 30]\n"
     ]
    }
   ],
   "source": [
    "l3.pop(2)\n",
    "print(l3)"
   ]
  },
  {
   "cell_type": "code",
   "execution_count": 83,
   "id": "c3ee95f4-1c00-4a3a-bb8e-114f953196af",
   "metadata": {},
   "outputs": [
    {
     "name": "stdout",
     "output_type": "stream",
     "text": [
      "[20]\n"
     ]
    }
   ],
   "source": [
    "l3.pop(1)\n",
    "print(l3)"
   ]
  },
  {
   "cell_type": "code",
   "execution_count": 84,
   "id": "cfcd457f-aaaf-4df2-a850-c308d2609b3a",
   "metadata": {},
   "outputs": [
    {
     "name": "stdout",
     "output_type": "stream",
     "text": [
      "[]\n"
     ]
    }
   ],
   "source": [
    "l3.pop(0)\n",
    "print(l3)"
   ]
  },
  {
   "cell_type": "code",
   "execution_count": null,
   "id": "a6b97310-0d48-40b6-af59-e01ec1c50016",
   "metadata": {},
   "outputs": [],
   "source": []
  }
 ],
 "metadata": {
  "kernelspec": {
   "display_name": "Python 3 (ipykernel)",
   "language": "python",
   "name": "python3"
  },
  "language_info": {
   "codemirror_mode": {
    "name": "ipython",
    "version": 3
   },
   "file_extension": ".py",
   "mimetype": "text/x-python",
   "name": "python",
   "nbconvert_exporter": "python",
   "pygments_lexer": "ipython3",
   "version": "3.12.4"
  }
 },
 "nbformat": 4,
 "nbformat_minor": 5
}
